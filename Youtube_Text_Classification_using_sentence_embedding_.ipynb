{
  "nbformat": 4,
  "nbformat_minor": 0,
  "metadata": {
    "colab": {
      "provenance": [],
      "mount_file_id": "1jndVAPkrI-HvRtzVNA8jp6AptxKQRXBp",
      "authorship_tag": "ABX9TyOugvykXPRM2Ya/oBZPBYfs",
      "include_colab_link": true
    },
    "kernelspec": {
      "name": "python3",
      "display_name": "Python 3"
    },
    "language_info": {
      "name": "python"
    },
    "accelerator": "GPU",
    "gpuClass": "standard"
  },
  "cells": [
    {
      "cell_type": "markdown",
      "metadata": {
        "id": "view-in-github",
        "colab_type": "text"
      },
      "source": [
        "<a href=\"https://colab.research.google.com/github/PradipNichite/Youtube-Tutorials/blob/main/Youtube_Text_Classification_using_sentence_embedding_.ipynb\" target=\"_parent\"><img src=\"https://colab.research.google.com/assets/colab-badge.svg\" alt=\"Open In Colab\"/></a>"
      ]
    },
    {
      "cell_type": "markdown",
      "source": [
        "Resources:\n",
        "\n",
        "*   https://www.sbert.net/index.html\n",
        "*   https://www.sbert.net/docs/pretrained_models.html\n",
        "\n",
        "\n"
      ],
      "metadata": {
        "id": "f96YvjJaFW1H"
      }
    },
    {
      "cell_type": "code",
      "execution_count": 1,
      "metadata": {
        "id": "DV9OUKi4FEQK"
      },
      "outputs": [],
      "source": [
        "!pip install -U sentence-transformers -q"
      ]
    },
    {
      "cell_type": "code",
      "source": [
        "import pandas as pd\n",
        "import numpy as np\n",
        "np.random.seed(2022)"
      ],
      "metadata": {
        "id": "D_M-jqm1Fojk"
      },
      "execution_count": 2,
      "outputs": []
    },
    {
      "cell_type": "code",
      "source": [
        "from sentence_transformers import SentenceTransformer\n",
        "model = SentenceTransformer('all-MiniLM-L6-v2')"
      ],
      "metadata": {
        "id": "hZa_JtiEFnHH"
      },
      "execution_count": 3,
      "outputs": []
    },
    {
      "cell_type": "code",
      "source": [
        "data = pd.read_csv(\"/content/drive/MyDrive/Content Creation/Youtube Tutorials/datasets/toxic_commnets_500.csv\",error_bad_lines=False, engine=\"python\")"
      ],
      "metadata": {
        "colab": {
          "base_uri": "https://localhost:8080/"
        },
        "id": "4TETdAcGFgVq",
        "outputId": "c360d4c1-ef15-4f6e-89d5-c93bdc30d8cc"
      },
      "execution_count": 4,
      "outputs": [
        {
          "output_type": "stream",
          "name": "stderr",
          "text": [
            "/usr/local/lib/python3.7/dist-packages/IPython/core/interactiveshell.py:3326: FutureWarning: The error_bad_lines argument has been deprecated and will be removed in a future version.\n",
            "\n",
            "\n",
            "  exec(code_obj, self.user_global_ns, self.user_ns)\n"
          ]
        }
      ]
    },
    {
      "cell_type": "code",
      "source": [
        "data.head()"
      ],
      "metadata": {
        "colab": {
          "base_uri": "https://localhost:8080/",
          "height": 206
        },
        "id": "YTsnDqq0Lfur",
        "outputId": "da1738fb-5e9b-413c-8551-b10e36092286"
      },
      "execution_count": 5,
      "outputs": [
        {
          "output_type": "execute_result",
          "data": {
            "text/plain": [
              "                                        comment_text  toxic\n",
              "0  Your knowledge of Hebrew? Thank god that Jossi...      0\n",
              "1  ==Tablighi Jamaat and allegations of terrorism...      0\n",
              "2  \"\\nWell it's understandable not wanting the in...      0\n",
              "3  \"\\n\\n Please stop adding nonsense to Wikipedia...      0\n",
              "4  Saint Petersburg\\nPlease, leave the sister cit...      0"
            ],
            "text/html": [
              "\n",
              "  <div id=\"df-21ff2b10-1660-4e93-bf9f-92d39ab0d89e\">\n",
              "    <div class=\"colab-df-container\">\n",
              "      <div>\n",
              "<style scoped>\n",
              "    .dataframe tbody tr th:only-of-type {\n",
              "        vertical-align: middle;\n",
              "    }\n",
              "\n",
              "    .dataframe tbody tr th {\n",
              "        vertical-align: top;\n",
              "    }\n",
              "\n",
              "    .dataframe thead th {\n",
              "        text-align: right;\n",
              "    }\n",
              "</style>\n",
              "<table border=\"1\" class=\"dataframe\">\n",
              "  <thead>\n",
              "    <tr style=\"text-align: right;\">\n",
              "      <th></th>\n",
              "      <th>comment_text</th>\n",
              "      <th>toxic</th>\n",
              "    </tr>\n",
              "  </thead>\n",
              "  <tbody>\n",
              "    <tr>\n",
              "      <th>0</th>\n",
              "      <td>Your knowledge of Hebrew? Thank god that Jossi...</td>\n",
              "      <td>0</td>\n",
              "    </tr>\n",
              "    <tr>\n",
              "      <th>1</th>\n",
              "      <td>==Tablighi Jamaat and allegations of terrorism...</td>\n",
              "      <td>0</td>\n",
              "    </tr>\n",
              "    <tr>\n",
              "      <th>2</th>\n",
              "      <td>\"\\nWell it's understandable not wanting the in...</td>\n",
              "      <td>0</td>\n",
              "    </tr>\n",
              "    <tr>\n",
              "      <th>3</th>\n",
              "      <td>\"\\n\\n Please stop adding nonsense to Wikipedia...</td>\n",
              "      <td>0</td>\n",
              "    </tr>\n",
              "    <tr>\n",
              "      <th>4</th>\n",
              "      <td>Saint Petersburg\\nPlease, leave the sister cit...</td>\n",
              "      <td>0</td>\n",
              "    </tr>\n",
              "  </tbody>\n",
              "</table>\n",
              "</div>\n",
              "      <button class=\"colab-df-convert\" onclick=\"convertToInteractive('df-21ff2b10-1660-4e93-bf9f-92d39ab0d89e')\"\n",
              "              title=\"Convert this dataframe to an interactive table.\"\n",
              "              style=\"display:none;\">\n",
              "        \n",
              "  <svg xmlns=\"http://www.w3.org/2000/svg\" height=\"24px\"viewBox=\"0 0 24 24\"\n",
              "       width=\"24px\">\n",
              "    <path d=\"M0 0h24v24H0V0z\" fill=\"none\"/>\n",
              "    <path d=\"M18.56 5.44l.94 2.06.94-2.06 2.06-.94-2.06-.94-.94-2.06-.94 2.06-2.06.94zm-11 1L8.5 8.5l.94-2.06 2.06-.94-2.06-.94L8.5 2.5l-.94 2.06-2.06.94zm10 10l.94 2.06.94-2.06 2.06-.94-2.06-.94-.94-2.06-.94 2.06-2.06.94z\"/><path d=\"M17.41 7.96l-1.37-1.37c-.4-.4-.92-.59-1.43-.59-.52 0-1.04.2-1.43.59L10.3 9.45l-7.72 7.72c-.78.78-.78 2.05 0 2.83L4 21.41c.39.39.9.59 1.41.59.51 0 1.02-.2 1.41-.59l7.78-7.78 2.81-2.81c.8-.78.8-2.07 0-2.86zM5.41 20L4 18.59l7.72-7.72 1.47 1.35L5.41 20z\"/>\n",
              "  </svg>\n",
              "      </button>\n",
              "      \n",
              "  <style>\n",
              "    .colab-df-container {\n",
              "      display:flex;\n",
              "      flex-wrap:wrap;\n",
              "      gap: 12px;\n",
              "    }\n",
              "\n",
              "    .colab-df-convert {\n",
              "      background-color: #E8F0FE;\n",
              "      border: none;\n",
              "      border-radius: 50%;\n",
              "      cursor: pointer;\n",
              "      display: none;\n",
              "      fill: #1967D2;\n",
              "      height: 32px;\n",
              "      padding: 0 0 0 0;\n",
              "      width: 32px;\n",
              "    }\n",
              "\n",
              "    .colab-df-convert:hover {\n",
              "      background-color: #E2EBFA;\n",
              "      box-shadow: 0px 1px 2px rgba(60, 64, 67, 0.3), 0px 1px 3px 1px rgba(60, 64, 67, 0.15);\n",
              "      fill: #174EA6;\n",
              "    }\n",
              "\n",
              "    [theme=dark] .colab-df-convert {\n",
              "      background-color: #3B4455;\n",
              "      fill: #D2E3FC;\n",
              "    }\n",
              "\n",
              "    [theme=dark] .colab-df-convert:hover {\n",
              "      background-color: #434B5C;\n",
              "      box-shadow: 0px 1px 3px 1px rgba(0, 0, 0, 0.15);\n",
              "      filter: drop-shadow(0px 1px 2px rgba(0, 0, 0, 0.3));\n",
              "      fill: #FFFFFF;\n",
              "    }\n",
              "  </style>\n",
              "\n",
              "      <script>\n",
              "        const buttonEl =\n",
              "          document.querySelector('#df-21ff2b10-1660-4e93-bf9f-92d39ab0d89e button.colab-df-convert');\n",
              "        buttonEl.style.display =\n",
              "          google.colab.kernel.accessAllowed ? 'block' : 'none';\n",
              "\n",
              "        async function convertToInteractive(key) {\n",
              "          const element = document.querySelector('#df-21ff2b10-1660-4e93-bf9f-92d39ab0d89e');\n",
              "          const dataTable =\n",
              "            await google.colab.kernel.invokeFunction('convertToInteractive',\n",
              "                                                     [key], {});\n",
              "          if (!dataTable) return;\n",
              "\n",
              "          const docLinkHtml = 'Like what you see? Visit the ' +\n",
              "            '<a target=\"_blank\" href=https://colab.research.google.com/notebooks/data_table.ipynb>data table notebook</a>'\n",
              "            + ' to learn more about interactive tables.';\n",
              "          element.innerHTML = '';\n",
              "          dataTable['output_type'] = 'display_data';\n",
              "          await google.colab.output.renderOutput(dataTable, element);\n",
              "          const docLink = document.createElement('div');\n",
              "          docLink.innerHTML = docLinkHtml;\n",
              "          element.appendChild(docLink);\n",
              "        }\n",
              "      </script>\n",
              "    </div>\n",
              "  </div>\n",
              "  "
            ]
          },
          "metadata": {},
          "execution_count": 5
        }
      ]
    },
    {
      "cell_type": "code",
      "source": [
        "import spacy\n",
        "import string\n",
        "nlp = spacy.load(\"en_core_web_sm\")\n",
        "stop_words = nlp.Defaults.stop_words\n",
        "print(stop_words)"
      ],
      "metadata": {
        "colab": {
          "base_uri": "https://localhost:8080/"
        },
        "id": "NeyaYJReMuo-",
        "outputId": "a1f52e39-915f-4bd4-d2c7-49aa2266f3b3"
      },
      "execution_count": 6,
      "outputs": [
        {
          "output_type": "stream",
          "name": "stdout",
          "text": [
            "{'thru', 'almost', 'sometimes', 'hereby', 'upon', 'thus', 'own', 'nevertheless', 'those', 'is', 'sometime', 'our', 'since', 'she', 'afterwards', 'much', 'its', 'meanwhile', 'ever', 'here', 'only', 'either', 'first', 'n’t', 'five', 'their', 'towards', 'twelve', 'any', 'your', 'empty', 'bottom', 'hers', '‘re', 'seems', 'although', 'such', 'thereafter', 'out', 'enough', 'by', 'again', 'became', 'thence', 'make', 'throughout', 'you', 'around', 'nobody', 'over', 'each', 'through', \"'d\", 'us', 'when', 're', 'being', 'eight', 'too', 'please', 'were', 'others', 'he', 'why', 'an', 'everyone', 'say', 'yourself', 'which', 'from', 'but', 'anyone', 'four', 'none', 'give', 'herein', 'whereupon', 'whoever', 'regarding', 'has', 'name', 'how', 'been', 'less', 'using', 'behind', 'ca', 'for', 'amongst', 'call', 'have', 'indeed', 'was', 'perhaps', 'yet', 'into', 'until', 'whence', 'would', 'thereupon', 'will', 'everything', 'somehow', 'we', 'whole', 'becoming', 'below', 'nothing', 'might', 'who', 'during', 'seem', 'anywhere', 'then', 'becomes', 'along', 'otherwise', 'somewhere', 'between', 'show', 'also', 'themselves', 'anyway', \"'ll\", \"'re\", 'serious', 'under', 'can', '‘m', 'seeming', 'another', 'neither', 'could', 'do', 'mine', 'alone', 'across', 'whether', 'my', 'more', 'no', 'what', 'thereby', 'at', '‘d', 'whereby', '’s', 'still', 'itself', \"'s\", 'above', 'nine', 'down', 'least', 'him', 'hence', 'cannot', 'are', 'get', 'three', \"'m\", 'ourselves', 'sixty', 'however', 'often', 'quite', 'full', 'keep', 'against', 'most', 'used', 'due', 'about', 'ten', 'myself', 'nowhere', 'some', \"n't\", 'up', 'while', 'several', 'as', 'so', 'had', 'latterly', 'because', 'really', 'before', 'where', 'third', 'within', 'side', 'the', 'seemed', '’ve', 'just', 'further', 'these', 'six', 'already', 'they', 'toward', 'a', 'if', 'with', 'beside', 'that', 'and', 'did', 'part', 'eleven', 'i', \"'ve\", 'of', 'even', 'rather', 'me', 'see', 'her', 'anyhow', 'become', 'doing', 'there', 'various', 'should', 'well', 'together', 'take', 'am', 'after', 'both', 'except', 'back', 'nor', 'unless', 'therefore', 'beyond', 'besides', 'it', '‘ll', 'yourselves', 'elsewhere', 'made', '‘s', 'n‘t', 'former', 'may', 'go', 'else', 'does', 'many', 'whatever', 'same', 'without', 'whenever', 'every', 'amount', 'yours', 'than', 'fifteen', 'mostly', 'always', 'himself', 'this', 'hundred', 'done', 'hereafter', 'them', 'off', 'wherever', 'whither', 'or', 'beforehand', 'on', 'fifty', 'very', 'move', '’re', 'forty', 'top', 'not', 'his', 'namely', 'must', '‘ve', 'whom', 'therein', '’ll', 'one', 'ours', 'whereas', 'put', 'wherein', 'someone', 'something', 'everywhere', 'latter', 'other', 'formerly', 'herself', 'hereupon', 'per', 'next', 'anything', 'once', '’m', 'few', 'all', 'front', 'via', 'twenty', 'be', 'now', 'whose', 'though', 'in', 'moreover', '’d', 'noone', 'among', 'last', 'two', 'whereafter', 'to', 'onto', 'never'}\n"
          ]
        }
      ]
    },
    {
      "cell_type": "code",
      "source": [
        "punctuations = string.punctuation\n",
        "print(punctuations)"
      ],
      "metadata": {
        "colab": {
          "base_uri": "https://localhost:8080/"
        },
        "id": "9kHog8d7M9TF",
        "outputId": "8c6bea1a-1d95-45f5-e7c6-4f0626580cef"
      },
      "execution_count": 7,
      "outputs": [
        {
          "output_type": "stream",
          "name": "stdout",
          "text": [
            "!\"#$%&'()*+,-./:;<=>?@[\\]^_`{|}~\n"
          ]
        }
      ]
    },
    {
      "cell_type": "code",
      "source": [
        "# Creating our tokenizer function\n",
        "def spacy_tokenizer(sentence):\n",
        "    # Creating our token object, which is used to create documents with linguistic annotations.\n",
        "    doc = nlp(sentence)\n",
        "\n",
        "\n",
        "\n",
        "    # print(doc)\n",
        "    # print(type(doc))\n",
        "\n",
        "    # Lemmatizing each token and converting each token into lowercase\n",
        "    mytokens = [ word.lemma_.lower().strip() for word in doc ]\n",
        "\n",
        "    # print(mytokens)\n",
        "\n",
        "    # Removing stop words\n",
        "    mytokens = [ word for word in mytokens if word not in stop_words and word not in punctuations ]\n",
        "    \n",
        "    sentence = \" \".join(mytokens)\n",
        "    # return preprocessed list of tokens\n",
        "    return sentence"
      ],
      "metadata": {
        "id": "6L3Kv_wkMlNT"
      },
      "execution_count": 8,
      "outputs": []
    },
    {
      "cell_type": "code",
      "source": [
        "list_ = [\"happy\" , \"apple\"]\n",
        "\"-\".join(list_)"
      ],
      "metadata": {
        "colab": {
          "base_uri": "https://localhost:8080/",
          "height": 35
        },
        "id": "nOIjguB5MLcq",
        "outputId": "153594e4-9564-48ab-b904-453caef5a15f"
      },
      "execution_count": 16,
      "outputs": [
        {
          "output_type": "execute_result",
          "data": {
            "text/plain": [
              "'happy-apple'"
            ],
            "application/vnd.google.colaboratory.intrinsic+json": {
              "type": "string"
            }
          },
          "metadata": {},
          "execution_count": 16
        }
      ]
    },
    {
      "cell_type": "code",
      "source": [
        "spacy_tokenizer(\"I am Eating\")"
      ],
      "metadata": {
        "colab": {
          "base_uri": "https://localhost:8080/",
          "height": 35
        },
        "id": "2CvjLs27NXL2",
        "outputId": "0482016b-d06c-4a9d-d2b6-af19146bd606"
      },
      "execution_count": 14,
      "outputs": [
        {
          "output_type": "execute_result",
          "data": {
            "text/plain": [
              "'eat'"
            ],
            "application/vnd.google.colaboratory.intrinsic+json": {
              "type": "string"
            }
          },
          "metadata": {},
          "execution_count": 14
        }
      ]
    },
    {
      "cell_type": "code",
      "source": [
        "data['tokenize'] = data['comment_text'].apply(spacy_tokenizer)"
      ],
      "metadata": {
        "id": "s_UQj-gkM5f4"
      },
      "execution_count": 12,
      "outputs": []
    },
    {
      "cell_type": "code",
      "source": [
        "data.head()"
      ],
      "metadata": {
        "colab": {
          "base_uri": "https://localhost:8080/",
          "height": 206
        },
        "id": "W3NyTNDPMd50",
        "outputId": "863fe3f4-ffe9-49df-db5e-b4df7f7dd845"
      },
      "execution_count": 17,
      "outputs": [
        {
          "output_type": "execute_result",
          "data": {
            "text/plain": [
              "                                        comment_text  toxic  \\\n",
              "0  Your knowledge of Hebrew? Thank god that Jossi...      0   \n",
              "1  ==Tablighi Jamaat and allegations of terrorism...      0   \n",
              "2  \"\\nWell it's understandable not wanting the in...      0   \n",
              "3  \"\\n\\n Please stop adding nonsense to Wikipedia...      0   \n",
              "4  Saint Petersburg\\nPlease, leave the sister cit...      0   \n",
              "\n",
              "                                            tokenize  \n",
              "0  knowledge hebrew thank god jossi speak hebrew ...  \n",
              "1  tablighi jamaat allegation terrorism== add art...  \n",
              "2  understandable want infobox overfill info fami...  \n",
              "3  stop add nonsense wikipedia consider vandalism...  \n",
              "4  saint petersburg leave sister city ill try fin...  "
            ],
            "text/html": [
              "\n",
              "  <div id=\"df-16ee68c3-01c4-4619-8473-2149b1520ed4\">\n",
              "    <div class=\"colab-df-container\">\n",
              "      <div>\n",
              "<style scoped>\n",
              "    .dataframe tbody tr th:only-of-type {\n",
              "        vertical-align: middle;\n",
              "    }\n",
              "\n",
              "    .dataframe tbody tr th {\n",
              "        vertical-align: top;\n",
              "    }\n",
              "\n",
              "    .dataframe thead th {\n",
              "        text-align: right;\n",
              "    }\n",
              "</style>\n",
              "<table border=\"1\" class=\"dataframe\">\n",
              "  <thead>\n",
              "    <tr style=\"text-align: right;\">\n",
              "      <th></th>\n",
              "      <th>comment_text</th>\n",
              "      <th>toxic</th>\n",
              "      <th>tokenize</th>\n",
              "    </tr>\n",
              "  </thead>\n",
              "  <tbody>\n",
              "    <tr>\n",
              "      <th>0</th>\n",
              "      <td>Your knowledge of Hebrew? Thank god that Jossi...</td>\n",
              "      <td>0</td>\n",
              "      <td>knowledge hebrew thank god jossi speak hebrew ...</td>\n",
              "    </tr>\n",
              "    <tr>\n",
              "      <th>1</th>\n",
              "      <td>==Tablighi Jamaat and allegations of terrorism...</td>\n",
              "      <td>0</td>\n",
              "      <td>tablighi jamaat allegation terrorism== add art...</td>\n",
              "    </tr>\n",
              "    <tr>\n",
              "      <th>2</th>\n",
              "      <td>\"\\nWell it's understandable not wanting the in...</td>\n",
              "      <td>0</td>\n",
              "      <td>understandable want infobox overfill info fami...</td>\n",
              "    </tr>\n",
              "    <tr>\n",
              "      <th>3</th>\n",
              "      <td>\"\\n\\n Please stop adding nonsense to Wikipedia...</td>\n",
              "      <td>0</td>\n",
              "      <td>stop add nonsense wikipedia consider vandalism...</td>\n",
              "    </tr>\n",
              "    <tr>\n",
              "      <th>4</th>\n",
              "      <td>Saint Petersburg\\nPlease, leave the sister cit...</td>\n",
              "      <td>0</td>\n",
              "      <td>saint petersburg leave sister city ill try fin...</td>\n",
              "    </tr>\n",
              "  </tbody>\n",
              "</table>\n",
              "</div>\n",
              "      <button class=\"colab-df-convert\" onclick=\"convertToInteractive('df-16ee68c3-01c4-4619-8473-2149b1520ed4')\"\n",
              "              title=\"Convert this dataframe to an interactive table.\"\n",
              "              style=\"display:none;\">\n",
              "        \n",
              "  <svg xmlns=\"http://www.w3.org/2000/svg\" height=\"24px\"viewBox=\"0 0 24 24\"\n",
              "       width=\"24px\">\n",
              "    <path d=\"M0 0h24v24H0V0z\" fill=\"none\"/>\n",
              "    <path d=\"M18.56 5.44l.94 2.06.94-2.06 2.06-.94-2.06-.94-.94-2.06-.94 2.06-2.06.94zm-11 1L8.5 8.5l.94-2.06 2.06-.94-2.06-.94L8.5 2.5l-.94 2.06-2.06.94zm10 10l.94 2.06.94-2.06 2.06-.94-2.06-.94-.94-2.06-.94 2.06-2.06.94z\"/><path d=\"M17.41 7.96l-1.37-1.37c-.4-.4-.92-.59-1.43-.59-.52 0-1.04.2-1.43.59L10.3 9.45l-7.72 7.72c-.78.78-.78 2.05 0 2.83L4 21.41c.39.39.9.59 1.41.59.51 0 1.02-.2 1.41-.59l7.78-7.78 2.81-2.81c.8-.78.8-2.07 0-2.86zM5.41 20L4 18.59l7.72-7.72 1.47 1.35L5.41 20z\"/>\n",
              "  </svg>\n",
              "      </button>\n",
              "      \n",
              "  <style>\n",
              "    .colab-df-container {\n",
              "      display:flex;\n",
              "      flex-wrap:wrap;\n",
              "      gap: 12px;\n",
              "    }\n",
              "\n",
              "    .colab-df-convert {\n",
              "      background-color: #E8F0FE;\n",
              "      border: none;\n",
              "      border-radius: 50%;\n",
              "      cursor: pointer;\n",
              "      display: none;\n",
              "      fill: #1967D2;\n",
              "      height: 32px;\n",
              "      padding: 0 0 0 0;\n",
              "      width: 32px;\n",
              "    }\n",
              "\n",
              "    .colab-df-convert:hover {\n",
              "      background-color: #E2EBFA;\n",
              "      box-shadow: 0px 1px 2px rgba(60, 64, 67, 0.3), 0px 1px 3px 1px rgba(60, 64, 67, 0.15);\n",
              "      fill: #174EA6;\n",
              "    }\n",
              "\n",
              "    [theme=dark] .colab-df-convert {\n",
              "      background-color: #3B4455;\n",
              "      fill: #D2E3FC;\n",
              "    }\n",
              "\n",
              "    [theme=dark] .colab-df-convert:hover {\n",
              "      background-color: #434B5C;\n",
              "      box-shadow: 0px 1px 3px 1px rgba(0, 0, 0, 0.15);\n",
              "      filter: drop-shadow(0px 1px 2px rgba(0, 0, 0, 0.3));\n",
              "      fill: #FFFFFF;\n",
              "    }\n",
              "  </style>\n",
              "\n",
              "      <script>\n",
              "        const buttonEl =\n",
              "          document.querySelector('#df-16ee68c3-01c4-4619-8473-2149b1520ed4 button.colab-df-convert');\n",
              "        buttonEl.style.display =\n",
              "          google.colab.kernel.accessAllowed ? 'block' : 'none';\n",
              "\n",
              "        async function convertToInteractive(key) {\n",
              "          const element = document.querySelector('#df-16ee68c3-01c4-4619-8473-2149b1520ed4');\n",
              "          const dataTable =\n",
              "            await google.colab.kernel.invokeFunction('convertToInteractive',\n",
              "                                                     [key], {});\n",
              "          if (!dataTable) return;\n",
              "\n",
              "          const docLinkHtml = 'Like what you see? Visit the ' +\n",
              "            '<a target=\"_blank\" href=https://colab.research.google.com/notebooks/data_table.ipynb>data table notebook</a>'\n",
              "            + ' to learn more about interactive tables.';\n",
              "          element.innerHTML = '';\n",
              "          dataTable['output_type'] = 'display_data';\n",
              "          await google.colab.output.renderOutput(dataTable, element);\n",
              "          const docLink = document.createElement('div');\n",
              "          docLink.innerHTML = docLinkHtml;\n",
              "          element.appendChild(docLink);\n",
              "        }\n",
              "      </script>\n",
              "    </div>\n",
              "  </div>\n",
              "  "
            ]
          },
          "metadata": {},
          "execution_count": 17
        }
      ]
    },
    {
      "cell_type": "code",
      "source": [
        "data['embeddings'] = data['tokenize'].apply(model.encode)"
      ],
      "metadata": {
        "id": "VKWFi1C7GyH0"
      },
      "execution_count": 18,
      "outputs": []
    },
    {
      "cell_type": "code",
      "source": [
        "data.head()"
      ],
      "metadata": {
        "colab": {
          "base_uri": "https://localhost:8080/",
          "height": 206
        },
        "id": "X3g9nakrG4Pl",
        "outputId": "2956a159-c7ee-4618-be8d-1afc810c760f"
      },
      "execution_count": 19,
      "outputs": [
        {
          "output_type": "execute_result",
          "data": {
            "text/plain": [
              "                                        comment_text  toxic  \\\n",
              "0  Your knowledge of Hebrew? Thank god that Jossi...      0   \n",
              "1  ==Tablighi Jamaat and allegations of terrorism...      0   \n",
              "2  \"\\nWell it's understandable not wanting the in...      0   \n",
              "3  \"\\n\\n Please stop adding nonsense to Wikipedia...      0   \n",
              "4  Saint Petersburg\\nPlease, leave the sister cit...      0   \n",
              "\n",
              "                                            tokenize  \\\n",
              "0  knowledge hebrew thank god jossi speak hebrew ...   \n",
              "1  tablighi jamaat allegation terrorism== add art...   \n",
              "2  understandable want infobox overfill info fami...   \n",
              "3  stop add nonsense wikipedia consider vandalism...   \n",
              "4  saint petersburg leave sister city ill try fin...   \n",
              "\n",
              "                                          embeddings  \n",
              "0  [0.040585447, 0.10845654, 0.016405603, -0.0097...  \n",
              "1  [0.013790878, 0.06591222, -0.07681706, -0.0021...  \n",
              "2  [0.012403863, 0.04393697, 0.052039493, 0.02465...  \n",
              "3  [0.020707756, 0.03334088, 0.0177352, -0.036466...  \n",
              "4  [0.04717972, 0.029359365, -0.11119904, 0.07145...  "
            ],
            "text/html": [
              "\n",
              "  <div id=\"df-2b07b9de-abdd-43bc-9926-b9d0d3824ad5\">\n",
              "    <div class=\"colab-df-container\">\n",
              "      <div>\n",
              "<style scoped>\n",
              "    .dataframe tbody tr th:only-of-type {\n",
              "        vertical-align: middle;\n",
              "    }\n",
              "\n",
              "    .dataframe tbody tr th {\n",
              "        vertical-align: top;\n",
              "    }\n",
              "\n",
              "    .dataframe thead th {\n",
              "        text-align: right;\n",
              "    }\n",
              "</style>\n",
              "<table border=\"1\" class=\"dataframe\">\n",
              "  <thead>\n",
              "    <tr style=\"text-align: right;\">\n",
              "      <th></th>\n",
              "      <th>comment_text</th>\n",
              "      <th>toxic</th>\n",
              "      <th>tokenize</th>\n",
              "      <th>embeddings</th>\n",
              "    </tr>\n",
              "  </thead>\n",
              "  <tbody>\n",
              "    <tr>\n",
              "      <th>0</th>\n",
              "      <td>Your knowledge of Hebrew? Thank god that Jossi...</td>\n",
              "      <td>0</td>\n",
              "      <td>knowledge hebrew thank god jossi speak hebrew ...</td>\n",
              "      <td>[0.040585447, 0.10845654, 0.016405603, -0.0097...</td>\n",
              "    </tr>\n",
              "    <tr>\n",
              "      <th>1</th>\n",
              "      <td>==Tablighi Jamaat and allegations of terrorism...</td>\n",
              "      <td>0</td>\n",
              "      <td>tablighi jamaat allegation terrorism== add art...</td>\n",
              "      <td>[0.013790878, 0.06591222, -0.07681706, -0.0021...</td>\n",
              "    </tr>\n",
              "    <tr>\n",
              "      <th>2</th>\n",
              "      <td>\"\\nWell it's understandable not wanting the in...</td>\n",
              "      <td>0</td>\n",
              "      <td>understandable want infobox overfill info fami...</td>\n",
              "      <td>[0.012403863, 0.04393697, 0.052039493, 0.02465...</td>\n",
              "    </tr>\n",
              "    <tr>\n",
              "      <th>3</th>\n",
              "      <td>\"\\n\\n Please stop adding nonsense to Wikipedia...</td>\n",
              "      <td>0</td>\n",
              "      <td>stop add nonsense wikipedia consider vandalism...</td>\n",
              "      <td>[0.020707756, 0.03334088, 0.0177352, -0.036466...</td>\n",
              "    </tr>\n",
              "    <tr>\n",
              "      <th>4</th>\n",
              "      <td>Saint Petersburg\\nPlease, leave the sister cit...</td>\n",
              "      <td>0</td>\n",
              "      <td>saint petersburg leave sister city ill try fin...</td>\n",
              "      <td>[0.04717972, 0.029359365, -0.11119904, 0.07145...</td>\n",
              "    </tr>\n",
              "  </tbody>\n",
              "</table>\n",
              "</div>\n",
              "      <button class=\"colab-df-convert\" onclick=\"convertToInteractive('df-2b07b9de-abdd-43bc-9926-b9d0d3824ad5')\"\n",
              "              title=\"Convert this dataframe to an interactive table.\"\n",
              "              style=\"display:none;\">\n",
              "        \n",
              "  <svg xmlns=\"http://www.w3.org/2000/svg\" height=\"24px\"viewBox=\"0 0 24 24\"\n",
              "       width=\"24px\">\n",
              "    <path d=\"M0 0h24v24H0V0z\" fill=\"none\"/>\n",
              "    <path d=\"M18.56 5.44l.94 2.06.94-2.06 2.06-.94-2.06-.94-.94-2.06-.94 2.06-2.06.94zm-11 1L8.5 8.5l.94-2.06 2.06-.94-2.06-.94L8.5 2.5l-.94 2.06-2.06.94zm10 10l.94 2.06.94-2.06 2.06-.94-2.06-.94-.94-2.06-.94 2.06-2.06.94z\"/><path d=\"M17.41 7.96l-1.37-1.37c-.4-.4-.92-.59-1.43-.59-.52 0-1.04.2-1.43.59L10.3 9.45l-7.72 7.72c-.78.78-.78 2.05 0 2.83L4 21.41c.39.39.9.59 1.41.59.51 0 1.02-.2 1.41-.59l7.78-7.78 2.81-2.81c.8-.78.8-2.07 0-2.86zM5.41 20L4 18.59l7.72-7.72 1.47 1.35L5.41 20z\"/>\n",
              "  </svg>\n",
              "      </button>\n",
              "      \n",
              "  <style>\n",
              "    .colab-df-container {\n",
              "      display:flex;\n",
              "      flex-wrap:wrap;\n",
              "      gap: 12px;\n",
              "    }\n",
              "\n",
              "    .colab-df-convert {\n",
              "      background-color: #E8F0FE;\n",
              "      border: none;\n",
              "      border-radius: 50%;\n",
              "      cursor: pointer;\n",
              "      display: none;\n",
              "      fill: #1967D2;\n",
              "      height: 32px;\n",
              "      padding: 0 0 0 0;\n",
              "      width: 32px;\n",
              "    }\n",
              "\n",
              "    .colab-df-convert:hover {\n",
              "      background-color: #E2EBFA;\n",
              "      box-shadow: 0px 1px 2px rgba(60, 64, 67, 0.3), 0px 1px 3px 1px rgba(60, 64, 67, 0.15);\n",
              "      fill: #174EA6;\n",
              "    }\n",
              "\n",
              "    [theme=dark] .colab-df-convert {\n",
              "      background-color: #3B4455;\n",
              "      fill: #D2E3FC;\n",
              "    }\n",
              "\n",
              "    [theme=dark] .colab-df-convert:hover {\n",
              "      background-color: #434B5C;\n",
              "      box-shadow: 0px 1px 3px 1px rgba(0, 0, 0, 0.15);\n",
              "      filter: drop-shadow(0px 1px 2px rgba(0, 0, 0, 0.3));\n",
              "      fill: #FFFFFF;\n",
              "    }\n",
              "  </style>\n",
              "\n",
              "      <script>\n",
              "        const buttonEl =\n",
              "          document.querySelector('#df-2b07b9de-abdd-43bc-9926-b9d0d3824ad5 button.colab-df-convert');\n",
              "        buttonEl.style.display =\n",
              "          google.colab.kernel.accessAllowed ? 'block' : 'none';\n",
              "\n",
              "        async function convertToInteractive(key) {\n",
              "          const element = document.querySelector('#df-2b07b9de-abdd-43bc-9926-b9d0d3824ad5');\n",
              "          const dataTable =\n",
              "            await google.colab.kernel.invokeFunction('convertToInteractive',\n",
              "                                                     [key], {});\n",
              "          if (!dataTable) return;\n",
              "\n",
              "          const docLinkHtml = 'Like what you see? Visit the ' +\n",
              "            '<a target=\"_blank\" href=https://colab.research.google.com/notebooks/data_table.ipynb>data table notebook</a>'\n",
              "            + ' to learn more about interactive tables.';\n",
              "          element.innerHTML = '';\n",
              "          dataTable['output_type'] = 'display_data';\n",
              "          await google.colab.output.renderOutput(dataTable, element);\n",
              "          const docLink = document.createElement('div');\n",
              "          docLink.innerHTML = docLinkHtml;\n",
              "          element.appendChild(docLink);\n",
              "        }\n",
              "      </script>\n",
              "    </div>\n",
              "  </div>\n",
              "  "
            ]
          },
          "metadata": {},
          "execution_count": 19
        }
      ]
    },
    {
      "cell_type": "code",
      "source": [
        "X = data['embeddings'].to_list()\n",
        "y = data['toxic'].to_list()"
      ],
      "metadata": {
        "id": "vP6I01ZcG9pV"
      },
      "execution_count": 20,
      "outputs": []
    },
    {
      "cell_type": "code",
      "source": [
        "from sklearn.model_selection import train_test_split\n",
        "X_train, X_test, y_train, y_test = train_test_split(X, y, test_size=0.2,stratify=y)"
      ],
      "metadata": {
        "id": "16F2BGvMHJaN"
      },
      "execution_count": 22,
      "outputs": []
    },
    {
      "cell_type": "code",
      "source": [
        "from sklearn.linear_model import LogisticRegression\n",
        "LR = LogisticRegression()\n",
        "LR.fit(X_train,y_train)"
      ],
      "metadata": {
        "colab": {
          "base_uri": "https://localhost:8080/"
        },
        "id": "wAd6c0dIHOfu",
        "outputId": "afe6e359-effc-464b-bbf7-14a82d25f433"
      },
      "execution_count": 23,
      "outputs": [
        {
          "output_type": "execute_result",
          "data": {
            "text/plain": [
              "LogisticRegression()"
            ]
          },
          "metadata": {},
          "execution_count": 23
        }
      ]
    },
    {
      "cell_type": "code",
      "source": [
        "from sklearn import metrics\n",
        "predicted = LR.predict(X_test)\n",
        "print(\"Logistic Regression Accuracy:\",metrics.accuracy_score(y_test, predicted))\n",
        "print(\"Logistic Regression Precision:\",metrics.precision_score(y_test, predicted))\n",
        "print(\"Logistic Regression Recall:\",metrics.recall_score(y_test, predicted))"
      ],
      "metadata": {
        "colab": {
          "base_uri": "https://localhost:8080/"
        },
        "id": "5T4MNhafHT8t",
        "outputId": "6777e2d7-1186-4ed8-f1fa-d14b6fca4cec"
      },
      "execution_count": 24,
      "outputs": [
        {
          "output_type": "stream",
          "name": "stdout",
          "text": [
            "Logistic Regression Accuracy: 0.88\n",
            "Logistic Regression Precision: 0.8725490196078431\n",
            "Logistic Regression Recall: 0.89\n"
          ]
        }
      ]
    },
    {
      "cell_type": "code",
      "source": [],
      "metadata": {
        "id": "LP_Dd8IDNTck"
      },
      "execution_count": null,
      "outputs": []
    }
  ]
}